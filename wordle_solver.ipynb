{
 "cells": [
  {
   "cell_type": "code",
   "execution_count": 2,
   "metadata": {},
   "outputs": [],
   "source": [
    "from math import isclose\n",
    "from itertools import product\n",
    "import numpy as np\n",
    "from numba import njit"
   ]
  },
  {
   "cell_type": "code",
   "execution_count": 3,
   "metadata": {},
   "outputs": [],
   "source": [
    "def load_words(path=\"wordlist.txt\"):\n",
    "    with open(path, \"r\") as f:\n",
    "        s = f.read()\n",
    "    return s.split(\"\\n\")\n",
    "\n",
    "def match(w1, w2):\n",
    "    temp = \"\"\n",
    "    ret = \"\"\n",
    "    yellows = \"\"\n",
    "    for i in range(5):\n",
    "        char = w1[i]\n",
    "        if char == w2[i]:\n",
    "            temp += \"G\"\n",
    "            yellows += char\n",
    "        else:\n",
    "            temp += \"B\"\n",
    "    for i in range(5):\n",
    "        char = w1[i]\n",
    "        if temp[i] == \"B\" and w2.count(char) > yellows.count(char):\n",
    "            ret += \"Y\"\n",
    "            yellows += char\n",
    "        else:\n",
    "            ret += temp[i]\n",
    "    return ret"
   ]
  },
  {
   "cell_type": "code",
   "execution_count": 4,
   "metadata": {},
   "outputs": [],
   "source": [
    "@njit\n",
    "def entropy(groups):\n",
    "    groups = groups[groups != 0] / np.sum(groups)\n",
    "    return -np.dot(groups, np.log2(groups))"
   ]
  },
  {
   "cell_type": "code",
   "execution_count": 5,
   "metadata": {},
   "outputs": [],
   "source": [
    "def guess_wordle_information(guess=\"soare\"):\n",
    "\n",
    "    full_words = load_words(\"guesses.txt\")\n",
    "    words = load_words(\"possible_words.txt\")\n",
    "    conf = \"guess\"\n",
    "    \n",
    "    base_dict = {}\n",
    "    acc = 0\n",
    "    for x in product(\"GBY\", repeat=5):\n",
    "        base_dict[\"\".join(x)] = acc\n",
    "        acc += 1\n",
    "\n",
    "    while True:\n",
    "\n",
    "        print(\"the \" + conf + \" is\", guess)\n",
    "        if conf == \"solution\":\n",
    "            return guess\n",
    "        print(\"please enter wordle output from this\")\n",
    "        print(\"B for black, Y for yellow, G for green\")\n",
    "        truth = input().upper()\n",
    "\n",
    "        if truth == \"GGGGG\":\n",
    "            break\n",
    "        assert len(truth) == 5\n",
    "        for i in truth:\n",
    "            assert i in \"GYB\"\n",
    "\n",
    "        new_words = []\n",
    "        yellows = \"\"\n",
    "        for i in range(5):\n",
    "            if truth[i] != \"B\":\n",
    "                yellows += guess[i]\n",
    "\n",
    "        for w in words:\n",
    "            flag = True\n",
    "            for i in range(5):\n",
    "                char = guess[i]\n",
    "                if truth[i] == \"G\" and w[i] != char:\n",
    "                    flag = False\n",
    "                    break\n",
    "                elif truth[i] == \"B\" and (\n",
    "                    w[i] == char or w.count(char) > yellows.count(char)\n",
    "                ):\n",
    "                    flag = False\n",
    "                    break\n",
    "                elif truth[i] == \"Y\" and (\n",
    "                    w[i] == char or yellows.count(char) > w.count(char)\n",
    "                ):\n",
    "                    flag = False\n",
    "                    break\n",
    "            if flag:\n",
    "                new_words.append(w)\n",
    "\n",
    "        words = new_words\n",
    "        guess = None\n",
    "        avg_score = 0\n",
    "\n",
    "        if len(words) == 1:\n",
    "            guess = words[0]\n",
    "            conf = \"solution\"\n",
    "            continue\n",
    "        \n",
    "        print(\"possibilities:\", len(words))\n",
    "\n",
    "        for chance in full_words:\n",
    "            groups = np.zeros(243)\n",
    "            for answer in words:\n",
    "                matching = match(chance, answer)\n",
    "                groups[base_dict[matching]] += 1\n",
    "            \n",
    "            a = entropy(groups)\n",
    "            \n",
    "            if a > avg_score:\n",
    "                avg_score = a\n",
    "                guess = chance\n",
    "            elif isclose(a, avg_score) and chance in words:\n",
    "                guess = chance\n",
    "                \n",
    "        print(\"entropy\", a)\n",
    "\n",
    "    return guess"
   ]
  },
  {
   "cell_type": "code",
   "execution_count": 7,
   "metadata": {},
   "outputs": [
    {
     "name": "stdout",
     "output_type": "stream",
     "text": [
      "the guess is soare\n",
      "please enter wordle output from this\n",
      "B for black, Y for yellow, G for green\n"
     ]
    },
    {
     "name": "stdin",
     "output_type": "stream",
     "text": [
      " gybbb\n"
     ]
    },
    {
     "name": "stdout",
     "output_type": "stream",
     "text": [
      "possibilities: 37\n",
      "entropy 0.4804334574529622\n",
      "the guess is cloot\n",
      "please enter wordle output from this\n",
      "B for black, Y for yellow, G for green\n"
     ]
    },
    {
     "name": "stdin",
     "output_type": "stream",
     "text": [
      " ybbgb\n"
     ]
    },
    {
     "name": "stdout",
     "output_type": "stream",
     "text": [
      "the solution is scion\n"
     ]
    },
    {
     "data": {
      "text/plain": [
       "'scion'"
      ]
     },
     "execution_count": 7,
     "metadata": {},
     "output_type": "execute_result"
    }
   ],
   "source": [
    "guess_wordle_information()"
   ]
  },
  {
   "cell_type": "code",
   "execution_count": 11,
   "metadata": {},
   "outputs": [],
   "source": [
    "def guess_wordle(guess=\"raise\"):\n",
    "\n",
    "    full_words = load_words(\"guesses.txt\")\n",
    "    words = load_words(\"possible_words.txt\")\n",
    "    conf = \"guess\"\n",
    "    \n",
    "    while True:\n",
    "\n",
    "        print(\"the \" + conf + \" is\", guess)\n",
    "        if conf == \"solution\":\n",
    "            return guess\n",
    "        print(\"please enter wordle output from this\")\n",
    "        print(\"B for black, Y for yellow, G for green\")\n",
    "        truth = input().upper()\n",
    "\n",
    "        if truth == \"GGGGG\":\n",
    "            break\n",
    "        assert len(truth) == 5\n",
    "        for i in truth:\n",
    "            assert i in \"GYB\"\n",
    "\n",
    "        new_words = []\n",
    "        yellows = \"\"\n",
    "        for i in range(5):\n",
    "            if truth[i] != \"B\":\n",
    "                yellows += guess[i]\n",
    "\n",
    "        for w in words:\n",
    "            flag = True\n",
    "            for i in range(5):\n",
    "                char = guess[i]\n",
    "                if truth[i] == \"G\" and w[i] != char:\n",
    "                    flag = False\n",
    "                    break\n",
    "                elif truth[i] == \"B\" and (\n",
    "                    w[i] == char or w.count(char) > yellows.count(char)\n",
    "                ):\n",
    "                    flag = False\n",
    "                    break\n",
    "                elif truth[i] == \"Y\" and (\n",
    "                    w[i] == char or yellows.count(char) > w.count(char)\n",
    "                ):\n",
    "                    flag = False\n",
    "                    break\n",
    "            if flag:\n",
    "                new_words.append(w)\n",
    "\n",
    "        words = new_words\n",
    "        guess = None\n",
    "        avg_score = float(\"inf\")\n",
    "\n",
    "        if len(words) == 1:\n",
    "            guess = words[0]\n",
    "            conf = \"solution\"\n",
    "            continue\n",
    "        \n",
    "        print(\"possibilities:\", len(words))\n",
    "        if len(words) == 2: print(words)\n",
    "\n",
    "        for chance in full_words:\n",
    "            groups = {}\n",
    "            for answer in words:\n",
    "                matching = match(chance, answer)\n",
    "                if matching not in groups:\n",
    "                    groups[matching] = 0\n",
    "                groups[matching] += 1\n",
    "            a = 0\n",
    "            for i in groups.values():\n",
    "                a += i ** 2\n",
    "            if len(groups) == 0:\n",
    "                guess = chance\n",
    "                break\n",
    "            a /= len(groups)\n",
    "            if a < avg_score:\n",
    "                avg_score = a\n",
    "                guess = chance\n",
    "            elif isclose(a, avg_score) and \"GGGGG\" in groups:\n",
    "                guess = chance\n",
    "\n",
    "    return guess"
   ]
  }
 ],
 "metadata": {
  "kernelspec": {
   "display_name": "Python 3 (ipykernel)",
   "language": "python",
   "name": "python3"
  },
  "language_info": {
   "codemirror_mode": {
    "name": "ipython",
    "version": 3
   },
   "file_extension": ".py",
   "mimetype": "text/x-python",
   "name": "python",
   "nbconvert_exporter": "python",
   "pygments_lexer": "ipython3",
   "version": "3.8.18"
  }
 },
 "nbformat": 4,
 "nbformat_minor": 4
}
